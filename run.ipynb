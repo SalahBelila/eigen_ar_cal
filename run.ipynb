{
 "cells": [
  {
   "cell_type": "code",
   "execution_count": 7,
   "metadata": {},
   "outputs": [],
   "source": [
    "import numpy as np\n",
    "from utils import pca, reconstruction, normalized\n",
    "import os\n",
    "import cv2 as cv\n",
    "import math\n",
    "import random\n",
    "import pandas as pd\n",
    "from scipy.spatial import distance"
   ]
  },
  {
   "cell_type": "markdown",
   "metadata": {},
   "source": [
    "## Preprocessing"
   ]
  },
  {
   "cell_type": "code",
   "execution_count": 8,
   "metadata": {},
   "outputs": [],
   "source": [
    "dataset_dir = './dataset'\n",
    "test_ratio = 0.2"
   ]
  },
  {
   "cell_type": "code",
   "execution_count": 9,
   "metadata": {},
   "outputs": [],
   "source": [
    "# each key in these dicts maps to a class ndarray.\n",
    "# a class ndarray holds all images for a specefic class.\n",
    "train_dict, test_dict = (dict(), dict())\n",
    "\n",
    "# we are considering each folder name as a class label\n",
    "for class_label in os.listdir(dataset_dir):\n",
    "  # ignore irrelevant folders.\n",
    "  # (we only consider folders named like: 'xx' where x is a digit).\n",
    "  if(len([x for x in class_label if x.isdigit()]) != 2):\n",
    "    continue\n",
    "\n",
    "  images = list()\n",
    "  for i, img_name in enumerate(os.listdir(os.path.join(dataset_dir, class_label))):\n",
    "    img_path = os.path.join(dataset_dir, class_label, img_name)\n",
    "\n",
    "    # the next 2 lines convert the image to grayscale\n",
    "    image = cv.imread(img_path, cv.IMREAD_GRAYSCALE)\n",
    "    # _, b_image = cv.threshold(image, 0, 255, cv.THRESH_BINARY+cv.THRESH_OTSU)\n",
    "    b_image = image\n",
    "    \n",
    "    # add the image\n",
    "    images.append(b_image)\n",
    "  \n",
    "  # split to train and test according to the set test_ratio. Then convert to numpy ndarrays\n",
    "  n_test_samples = math.floor(test_ratio * len(images))\n",
    "  random.shuffle(images)\n",
    "  test_dict[class_label] = np.array(images[:n_test_samples], dtype=np.float64)\n",
    "  train_dict[class_label] = np.array(images[n_test_samples:], dtype=np.float64)"
   ]
  },
  {
   "cell_type": "markdown",
   "metadata": {},
   "source": [
    "## Constructing PCA Matrix\n",
    "\n",
    "We will construct a PCA matrix for each class and store them in a dictionary. Each key is a class label and maps to the corresponding matrix"
   ]
  },
  {
   "cell_type": "code",
   "execution_count": 10,
   "metadata": {},
   "outputs": [],
   "source": [
    "n_components = 50"
   ]
  },
  {
   "cell_type": "code",
   "execution_count": 11,
   "metadata": {},
   "outputs": [],
   "source": [
    "pca_by_class = dict()\n",
    "for class_label in train_dict:\n",
    "  images = train_dict[class_label]\n",
    "  n_samples, h, w = images.shape\n",
    "  pca_by_class[class_label] = pca(images.reshape(n_samples, h*w), n_components)"
   ]
  },
  {
   "cell_type": "markdown",
   "metadata": {},
   "source": [
    "# Testing"
   ]
  },
  {
   "cell_type": "code",
   "execution_count": 12,
   "metadata": {},
   "outputs": [
    {
     "name": "stdout",
     "output_type": "stream",
     "text": [
      "{'08': 0.9, '06': 1.0, '09': 1.0, '02': 1.0}\n"
     ]
    },
    {
     "data": {
      "text/plain": [
       "<AxesSubplot:title={'center':'Accuracy'}>"
      ]
     },
     "execution_count": 12,
     "metadata": {},
     "output_type": "execute_result"
    },
    {
     "data": {
      "image/png": "[encoded data removed]",
      "text/plain": [
       "<Figure size 432x288 with 1 Axes>"
      ]
     },
     "metadata": {
      "needs_background": "light"
     },
     "output_type": "display_data"
    }
   ],
   "source": [
    "# this dict will hold the accuracy for each class.\n",
    "accuracy = dict()\n",
    "\n",
    "for true_class_label in test_dict:\n",
    "  images = test_dict[true_class_label]\n",
    "  n_samples, h, w = images.shape\n",
    "  X = images.reshape(n_samples, h*w)\n",
    "  \n",
    "  hits = 0\n",
    "  for i in range(n_samples):\n",
    "    distances = []\n",
    "    class_labels = []\n",
    "    for class_label in pca_by_class:\n",
    "      C, M, _ = pca_by_class[class_label]\n",
    "      recovered_image = reconstruction(X - M, C, M, h, w, i)\n",
    "      dist = distance.euclidean(normalized(images[i].reshape(h*w)), normalized(recovered_image.reshape(h*w)))\n",
    "\n",
    "      distances.append(dist)\n",
    "      class_labels.append(class_label)\n",
    "\n",
    "    predicted_class_label = class_labels[np.argmin(distances)]\n",
    "    if(predicted_class_label == true_class_label):\n",
    "      hits += 1\n",
    "  accuracy[true_class_label] = hits / n_samples\n",
    "\n",
    "print(accuracy)\n",
    "accuracy_df = pd.DataFrame(data=accuracy.values(), index=accuracy.keys())\n",
    "accuracy_df.plot(title='Accuracy', kind='bar')"
   ]
  }
 ],
 "metadata": {
  "interpreter": {
   "hash": "916dbcbb3f70747c44a77c7bcd40155683ae19c65e1c03b4aa3499c5328201f1"
  },
  "kernelspec": {
   "display_name": "Python 3.8.10 64-bit",
   "language": "python",
   "name": "python3"
  },
  "language_info": {
   "codemirror_mode": {
    "name": "ipython",
    "version": 3
   },
   "file_extension": ".py",
   "mimetype": "text/x-python",
   "name": "python",
   "nbconvert_exporter": "python",
   "pygments_lexer": "ipython3",
   "version": "3.8.10"
  },
  "orig_nbformat": 4
 },
 "nbformat": 4,
 "nbformat_minor": 2
}
